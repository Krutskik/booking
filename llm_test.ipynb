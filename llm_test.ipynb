{
  "cells": [
    {
      "cell_type": "markdown",
      "metadata": {
        "id": "view-in-github",
        "colab_type": "text"
      },
      "source": [
        "<a href=\"https://colab.research.google.com/github/Krutskik/booking/blob/main/llm_test.ipynb\" target=\"_parent\"><img src=\"https://colab.research.google.com/assets/colab-badge.svg\" alt=\"Open In Colab\"/></a>"
      ]
    },
    {
      "cell_type": "code",
      "source": [
        "import requests\n",
        "import json\n",
        "import os"
      ],
      "metadata": {
        "id": "R_H0fEAGHh9f"
      },
      "execution_count": null,
      "outputs": []
    },
    {
      "cell_type": "code",
      "execution_count": null,
      "metadata": {
        "id": "w6F6cELKdxce"
      },
      "outputs": [],
      "source": [
        "API_URL = \"https://api-inference.huggingface.co/models/microsoft/Phi-3-mini-4k-instruct\"\n",
        "headers = os.getenv(\"HF_TOKEN\")"
      ]
    },
    {
      "cell_type": "code",
      "execution_count": null,
      "metadata": {
        "id": "Xy7sO381S_-k",
        "colab": {
          "base_uri": "https://localhost:8080/"
        },
        "outputId": "3c8b9061-1198-4e21-8453-d9ae6d0ebea6"
      },
      "outputs": [
        {
          "output_type": "stream",
          "name": "stdout",
          "text": [
            "\n",
            "You are a useful hotel booking assistant.\n",
            "Your task is to help the user book a hotel. Answer briefly and clearly\n",
            "Please clarify the following details: the city where the hotel is located, ratings, the budget, number of persons, and the number of nights.\"\n",
            "You must extract information from the request in this form: {\"city\": \"name\", \"budget\": \"number\", \"number_of_persons\": \"number\", \"number_of_nights\": \"number\"}\n"
          ]
        }
      ],
      "source": [
        "SYSTEM_PROMPT = (\"\"\"\n",
        "You are a useful hotel booking assistant.\n",
        "Your task is to help the user book a hotel. Answer briefly and clearly\\nPlease clarify the following details: the city where the hotel is located, ratings, the budget, number of persons, and the number of nights.\"\n",
        "You must extract information from the request in this form: {\"city\": \"name\", \"budget\": \"number\", \"number_of_persons\": \"number\", \"number_of_nights\": \"number\"}\"\"\")\n",
        "first_activation = True\n",
        "conversation_history = SYSTEM_PROMPT\n",
        "print(SYSTEM_PROMPT)"
      ]
    },
    {
      "cell_type": "code",
      "execution_count": null,
      "metadata": {
        "id": "RHlgB1NIWneu",
        "colab": {
          "base_uri": "https://localhost:8080/"
        },
        "outputId": "5665273a-f9ee-4156-f339-731558fb60ce"
      },
      "outputs": [
        {
          "output_type": "stream",
          "name": "stdout",
          "text": [
            "ID: 1, Name: Luxury Hotel, City: Moscow, Price: 5000, Rating: 5 stars, Capacity: 1 to 3 people\n",
            "ID: 2, Name: Budget Hotel, City: Moscow, Price: 1500, Rating: 3 stars, Capacity: 1 to 2 people\n",
            "ID: 3, Name: Family Hotel, City: Moscow, Price: 3000, Rating: 4 stars, Capacity: 1 to 4 people\n",
            "ID: 4, Name: Business Hotel, City: Novosibirsk, Price: 4500, Rating: 4 stars, Capacity: 1 to 4 people\n",
            "ID: 5, Name: Resort Hotel, City: Sochi, Price: 6000, Rating: 5 stars, Capacity: 1 to 4 people\n",
            "ID: 6, Name: City Center Inn, City: Yekaterinburg, Price: 3500, Rating: 4 stars, Capacity: 1 to 4 people\n",
            "ID: 7, Name: Historic Hotel, City: Nizhny Novgorod, Price: 2800, Rating: 3 stars, Capacity: 1 to 4 people\n",
            "ID: 8, Name: Boutique Hotel, City: Krasnodar, Price: 4200, Rating: 5 stars, Capacity: 1 to 4 people\n",
            "ID: 9, Name: Eco Hotel, City: Irkutsk, Price: 3200, Rating: 4 stars, Capacity: 1 to 4 people\n",
            "ID: 10, Name: Hostel Comfort, City: Vladivostok, Price: 1200, Rating: 2 stars, Capacity: 1 to 4 people\n",
            "ID: 11, Name: Airport Hotel, City: Samara, Price: 3700, Rating: 4 stars, Capacity: 1 to 4 people\n",
            "ID: 12, Name: Mountain Retreat, City: Khabarovsk, Price: 4800, Rating: 5 stars, Capacity: 1 to 4 people\n",
            "ID: 13, Name: Seaside Hotel, City: Kaliningrad, Price: 3300, Rating: 4 stars, Capacity: 1 to 4 people\n",
            "ID: 14, Name: Cultural Hotel, City: Ufa, Price: 2900, Rating: 3 stars, Capacity: 1 to 4 people\n",
            "ID: 15, Name: Spa Resort, City: Volgograd, Price: 5500, Rating: 5 stars, Capacity: 1 to 4 people\n",
            "ID: 16, Name: Classic Hotel, City: Perm, Price: 3100, Rating: 4 stars, Capacity: 1 to 4 people\n",
            "ID: 17, Name: Modern Hotel, City: Krasnoyarsk, Price: 3900, Rating: 4 stars, Capacity: 1 to 4 people\n",
            "ID: 18, Name: Nature Inn, City: Voronezh, Price: 2700, Rating: 3 stars, Capacity: 1 to 4 people\n",
            "ID: 19, Name: Luxury Resort, City: Saratov, Price: 6500, Rating: 5 stars, Capacity: 1 to 4 people\n",
            "ID: 20, Name: Budget Inn, City: Tolyatti, Price: 1300, Rating: 2 stars, Capacity: 1 to 4 people\n"
          ]
        }
      ],
      "source": [
        "def mock_hotel_database():\n",
        "    # Имитируем базу данных с отелями\n",
        "    # We simulate a database with hotels\n",
        "    hotels = [\n",
        "        {\"id\": 1, \"name\": \"Luxury Hotel\", \"city\": \"Moscow\", \"price\": 5000, \"rating\": 5, \"min_capacity\": 1, \"max_capacity\": 3},\n",
        "        {\"id\": 2, \"name\": \"Budget Hotel\", \"city\": \"Moscow\", \"price\": 1500, \"rating\": 3, \"min_capacity\": 1, \"max_capacity\": 2},\n",
        "        {\"id\": 3, \"name\": \"Family Hotel\", \"city\": \"Moscow\", \"price\": 3000, \"rating\": 4, \"min_capacity\": 1, \"max_capacity\": 4},\n",
        "        {\"id\": 4, \"name\": \"Business Hotel\", \"city\": \"Novosibirsk\", \"price\": 4500, \"rating\": 4, \"min_capacity\": 1, \"max_capacity\": 4},\n",
        "        {\"id\": 5, \"name\": \"Resort Hotel\", \"city\": \"Sochi\", \"price\": 6000, \"rating\": 5, \"min_capacity\": 1, \"max_capacity\": 4},\n",
        "        {\"id\": 6, \"name\": \"City Center Inn\", \"city\": \"Yekaterinburg\", \"price\": 3500, \"rating\": 4, \"min_capacity\": 1, \"max_capacity\": 4},\n",
        "        {\"id\": 7, \"name\": \"Historic Hotel\", \"city\": \"Nizhny Novgorod\", \"price\": 2800, \"rating\": 3, \"min_capacity\": 1, \"max_capacity\": 4},\n",
        "        {\"id\": 8, \"name\": \"Boutique Hotel\", \"city\": \"Krasnodar\", \"price\": 4200, \"rating\": 5, \"min_capacity\": 1, \"max_capacity\": 4},\n",
        "        {\"id\": 9, \"name\": \"Eco Hotel\", \"city\": \"Irkutsk\", \"price\": 3200, \"rating\": 4, \"min_capacity\": 1, \"max_capacity\": 4},\n",
        "        {\"id\": 10, \"name\": \"Hostel Comfort\", \"city\": \"Vladivostok\", \"price\": 1200, \"rating\": 2, \"min_capacity\": 1, \"max_capacity\": 4},\n",
        "        {\"id\": 11, \"name\": \"Airport Hotel\", \"city\": \"Samara\", \"price\": 3700, \"rating\": 4, \"min_capacity\": 1, \"max_capacity\": 4},\n",
        "        {\"id\": 12, \"name\": \"Mountain Retreat\", \"city\": \"Khabarovsk\", \"price\": 4800, \"rating\": 5, \"min_capacity\": 1, \"max_capacity\": 4},\n",
        "        {\"id\": 13, \"name\": \"Seaside Hotel\", \"city\": \"Kaliningrad\", \"price\": 3300, \"rating\": 4, \"min_capacity\": 1, \"max_capacity\": 4},\n",
        "        {\"id\": 14, \"name\": \"Cultural Hotel\", \"city\": \"Ufa\", \"price\": 2900, \"rating\": 3, \"min_capacity\": 1, \"max_capacity\": 4},\n",
        "        {\"id\": 15, \"name\": \"Spa Resort\", \"city\": \"Volgograd\", \"price\": 5500, \"rating\": 5, \"min_capacity\": 1, \"max_capacity\": 4},\n",
        "        {\"id\": 16, \"name\": \"Classic Hotel\", \"city\": \"Perm\", \"price\": 3100, \"rating\": 4, \"min_capacity\": 1, \"max_capacity\": 4},\n",
        "        {\"id\": 17, \"name\": \"Modern Hotel\", \"city\": \"Krasnoyarsk\", \"price\": 3900, \"rating\": 4, \"min_capacity\": 1, \"max_capacity\": 4},\n",
        "        {\"id\": 18, \"name\": \"Nature Inn\", \"city\": \"Voronezh\", \"price\": 2700, \"rating\": 3, \"min_capacity\": 1, \"max_capacity\": 4},\n",
        "        {\"id\": 19, \"name\": \"Luxury Resort\", \"city\": \"Saratov\", \"price\": 6500, \"rating\": 5, \"min_capacity\": 1, \"max_capacity\": 4},\n",
        "        {\"id\": 20, \"name\": \"Budget Inn\", \"city\": \"Tolyatti\", \"price\": 1300, \"rating\": 2, \"min_capacity\": 1, \"max_capacity\": 4},\n",
        "    ]\n",
        "    return hotels\n",
        "\n",
        "hotels = mock_hotel_database()\n",
        "for hotel in hotels:\n",
        "    print(f\"ID: {hotel['id']}, Name: {hotel['name']}, City: {hotel['city']}, Price: {hotel['price']}, Rating: {hotel['rating']} stars, Capacity: {hotel['min_capacity']} to {hotel['max_capacity']} people\")\n"
      ]
    },
    {
      "cell_type": "code",
      "source": [
        "import pandas as pd\n",
        "\n",
        "hotels = mock_hotel_database()\n",
        "\n",
        "df = pd.DataFrame(hotels)\n",
        "\n",
        "moscow_hotels = df[(df['city'] == 'Moscow') & (df['rating'] == 4) & (df['price'] <= 4000)]\n",
        "\n",
        "print(moscow_hotels)\n"
      ],
      "metadata": {
        "colab": {
          "base_uri": "https://localhost:8080/"
        },
        "id": "Mmvgtx9Tvy7s",
        "outputId": "cb455487-8a81-46b4-8e2c-1f57d22b50eb"
      },
      "execution_count": null,
      "outputs": [
        {
          "output_type": "stream",
          "name": "stdout",
          "text": [
            "   id          name    city  price  rating  min_capacity  max_capacity\n",
            "2   3  Family Hotel  Moscow   3000       4           1.0           4.0\n"
          ]
        }
      ]
    },
    {
      "cell_type": "code",
      "source": [
        "def list_to_text(hotels, require_booking = True):\n",
        "    if len(hotels) == 0:\n",
        "        return \"No hotels found\"\n",
        "\n",
        "    res = \"\"\n",
        "    if require_booking:\n",
        "        res = \"I found some hotels for you:\\n\"\n",
        "\n",
        "    for i in hotels:\n",
        "        res += str(hotels.index(i)+1) + \". Hotel name: \" + i['name'] + \", rating: \" + \"⭐\" * i[\"rating\"] + \", price: \" + str(i[\"price\"]) + \"\\n\"\n",
        "\n",
        "    if require_booking:\n",
        "        res += \"Type index of hotel to book it.\\nType 0 for cancel.\"\n",
        "\n",
        "    return res"
      ],
      "metadata": {
        "id": "Z0ymwTB1fhdU"
      },
      "execution_count": null,
      "outputs": []
    },
    {
      "cell_type": "code",
      "execution_count": null,
      "metadata": {
        "colab": {
          "base_uri": "https://localhost:8080/"
        },
        "id": "IcasmB8ahsV0",
        "outputId": "658e07b7-c5e4-424c-dc21-e3f2c0de10be"
      },
      "outputs": [
        {
          "output_type": "stream",
          "name": "stdout",
          "text": [
            "Welcome to the hotel booking assistant!\n",
            "Please, send city, your budget, how long do you want to stay and how much persons will be with you.\n",
            "I will try to find suitable options \n",
            "You: Moscow, for 3 nights, 6000 rubles\n",
            "- Response: {\"city\": \"Moscow\", \"budget\": \"6000\", \"number_of_persons\": \"1\", \"number_of_nights\": \"3\"}\n",
            "\n",
            "Note: The budget is given in rubles, and assuming it's for one person. If it's for multiple persons, the budget should be divided accordingly. However, since the number of persons wasn't specified, I've assumed it'\n",
            "Model:\n",
            "I found some hotels for you:\n",
            "1. Hotel name: Luxury Hotel, rating: ⭐⭐⭐⭐⭐, price: 5000\n",
            "2. Hotel name: Budget Hotel, rating: ⭐⭐⭐, price: 1500\n",
            "3. Hotel name: Family Hotel, rating: ⭐⭐⭐⭐, price: 3000\n",
            "Type index of hotel to book it.\n",
            "Type 0 for cancel.\n",
            "You: exit\n",
            "Goodbye!\n"
          ]
        }
      ],
      "source": [
        "def handle_request(user_input, cur_search_data):\n",
        "    global conversation_history\n",
        "    prompt = SYSTEM_PROMPT + \"\\nUser: \" + user_input + \". return only json\"\n",
        "\n",
        "    if cur_search_data != None:\n",
        "        prompt = SYSTEM_PROMPT + cur_search_data + \" \" + user_input + \", return only json\"\n",
        "\n",
        "    payload = {\n",
        "        \"inputs\": prompt,\n",
        "        \"parameters\": {\n",
        "            \"max_length\": 10000,\n",
        "            \"stop\": [\"User:\", \"Assistant:\"]\n",
        "        }\n",
        "    }\n",
        "    response = requests.post(API_URL, headers=headers, json=payload)\n",
        "\n",
        "    response_json = response.json()\n",
        "    if isinstance(response_json, list) and len(response_json) > 0 and 'generated_text' in response_json[0]:\n",
        "        response_text = response_json[0]['generated_text']\n",
        "    else:\n",
        "        response_text = \"Sorry, I didn't understand that. Could you please clarify?\"\n",
        "\n",
        "    conversation_history += \"User: \" + user_input + \"\\nAssistant: \" + response_text + \"\\n\"\n",
        "\n",
        "    cur_res = response_text.replace(prompt, '').strip()\n",
        "    print(cur_res)\n",
        "\n",
        "    if cur_res.find('{') == -1 or cur_res.find('}') == -1:\n",
        "        return (\"Try again, can't understand you.\", [], None)\n",
        "\n",
        "\n",
        "    cur_res = cur_res[cur_res.find('{'):cur_res.find('}')+1]\n",
        "    json_data = json.loads(cur_res)\n",
        "\n",
        "    if 'city' not in json_data or json_data['city'] is (None or ''):\n",
        "        return (\"Missing city, pass it.\", [], user_input)\n",
        "\n",
        "    if 'budget' not in json_data or json_data['budget'] is (None or ''):\n",
        "        return (\"Missing budget, pass it.\", [], user_input)\n",
        "\n",
        "    if 'number_of_persons' not in json_data or json_data['number_of_persons'] is (None or ''):\n",
        "        return (\"Missing number of persons, pass it.\", [], user_input)\n",
        "\n",
        "    if 'number_of_nights' not in json_data or json_data['number_of_nights'] is (None or ''):\n",
        "        return (\"Missing number of nights, pass it.\", [], user_input)\n",
        "\n",
        "    result = find_hotels(hotels, json_data)\n",
        "\n",
        "    return (list_to_text(result), result, None)\n",
        "\n",
        "def main():\n",
        "    global conversation_history\n",
        "    print(\"Welcome to the hotel booking assistant!\\nPlease, send city, your budget, how long do you want to stay and how much persons will be with you.\\nI will try to find suitable options \")\n",
        "    cur_hotels = []\n",
        "    cur_search_data = None\n",
        "    while True:\n",
        "        user_input = input(\"You: \")\n",
        "        if user_input.lower() in [\"exit\", \"quit\"]:\n",
        "            print(\"Goodbye!\")\n",
        "            break\n",
        "        elif user_input.lower() == \"reset\":\n",
        "            conversation_history = SYSTEM_PROMPT\n",
        "            print(\"Conversation history has been reset.\")\n",
        "        elif user_input.isdigit():\n",
        "            if len(cur_hotels) >= int(user_input) and int(user_input) != 0:\n",
        "                print(\"Great! Booking hotel №\" + user_input + \". \" + list_to_text([cur_hotels[int(user_input)-1]], False))\n",
        "                conversation_history = SYSTEM_PROMPT\n",
        "                break\n",
        "            elif int(user_input) == 0:\n",
        "                print(\"Canceling booking!\")\n",
        "                conversation_history = SYSTEM_PROMPT\n",
        "                break\n",
        "        else:\n",
        "            response = handle_request(user_input, cur_search_data)\n",
        "            cur_hotels = response[1]\n",
        "            cur_search_data = response[2]\n",
        "            print(\"Model:\\n\" + response[0])\n",
        "\n",
        "if __name__ == \"__main__\":\n",
        "    main()"
      ]
    }
  ],
  "metadata": {
    "colab": {
      "provenance": [],
      "include_colab_link": true
    },
    "kernelspec": {
      "display_name": "Python 3",
      "name": "python3"
    },
    "language_info": {
      "name": "python"
    }
  },
  "nbformat": 4,
  "nbformat_minor": 0
}